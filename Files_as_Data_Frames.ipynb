{
  "nbformat": 4,
  "nbformat_minor": 0,
  "metadata": {
    "colab": {
      "provenance": [],
      "authorship_tag": "ABX9TyOE3gqfFgizq9I9CliRKnZK",
      "include_colab_link": true
    },
    "kernelspec": {
      "name": "python3",
      "display_name": "Python 3"
    },
    "language_info": {
      "name": "python"
    }
  },
  "cells": [
    {
      "cell_type": "markdown",
      "metadata": {
        "id": "view-in-github",
        "colab_type": "text"
      },
      "source": [
        "<a href=\"https://colab.research.google.com/github/mwahajkhan/Python-For-Data-Engineering/blob/main/Files_as_Data_Frames.ipynb\" target=\"_parent\"><img src=\"https://colab.research.google.com/assets/colab-badge.svg\" alt=\"Open In Colab\"/></a>"
      ]
    },
    {
      "cell_type": "code",
      "execution_count": null,
      "metadata": {
        "id": "7x9axDtSB7t6"
      },
      "outputs": [],
      "source": [
        "import pandas as pd\n",
        "\n",
        "#convert data to dataframe\n",
        "df = pd.read_csv('/content/sample_data/california_housing_test.csv')\n",
        "\n",
        "#Print only first 5 lines\n",
        "print(df)\n",
        "\n"
      ]
    },
    {
      "cell_type": "code",
      "source": [
        "#print all rows of dataframe\n",
        "print(df.to_string())"
      ],
      "metadata": {
        "id": "UCAemaxnFvr7"
      },
      "execution_count": null,
      "outputs": []
    },
    {
      "cell_type": "code",
      "source": [
        "df = pd.read_json('/content/sample_data/anscombe.json')\n",
        "print(df.to_string())"
      ],
      "metadata": {
        "colab": {
          "base_uri": "https://localhost:8080/"
        },
        "id": "RGJYFzaxHJIx",
        "outputId": "d2d0f4bc-99a1-49b7-c313-389ebf58db84"
      },
      "execution_count": 20,
      "outputs": [
        {
          "output_type": "stream",
          "name": "stdout",
          "text": [
            "   Series   X      Y\n",
            "0       I  10   8.04\n",
            "1       I   8   6.95\n",
            "2       I  13   7.58\n",
            "3       I   9   8.81\n",
            "4       I  11   8.33\n",
            "5       I  14   9.96\n",
            "6       I   6   7.24\n",
            "7       I   4   4.26\n",
            "8       I  12  10.84\n",
            "9       I   7   4.81\n",
            "10      I   5   5.68\n",
            "11     II  10   9.14\n",
            "12     II   8   8.14\n",
            "13     II  13   8.74\n",
            "14     II   9   8.77\n",
            "15     II  11   9.26\n",
            "16     II  14   8.10\n",
            "17     II   6   6.13\n",
            "18     II   4   3.10\n",
            "19     II  12   9.13\n",
            "20     II   7   7.26\n",
            "21     II   5   4.74\n",
            "22    III  10   7.46\n",
            "23    III   8   6.77\n",
            "24    III  13  12.74\n",
            "25    III   9   7.11\n",
            "26    III  11   7.81\n",
            "27    III  14   8.84\n",
            "28    III   6   6.08\n",
            "29    III   4   5.39\n",
            "30    III  12   8.15\n",
            "31    III   7   6.42\n",
            "32    III   5   5.73\n",
            "33     IV   8   6.58\n",
            "34     IV   8   5.76\n",
            "35     IV   8   7.71\n",
            "36     IV   8   8.84\n",
            "37     IV   8   8.47\n",
            "38     IV   8   7.04\n",
            "39     IV   8   5.25\n",
            "40     IV  19  12.50\n",
            "41     IV   8   5.56\n",
            "42     IV   8   7.91\n",
            "43     IV   8   6.89\n"
          ]
        }
      ]
    },
    {
      "cell_type": "code",
      "source": [
        "df = pd.read_excel('/content/sample_data/11-Physician.xlsx')\n",
        "print(df.to_string())"
      ],
      "metadata": {
        "colab": {
          "base_uri": "https://localhost:8080/"
        },
        "id": "wvqKxlsAHiOS",
        "outputId": "e7788df8-9d2e-4b51-a633-367ada96092f"
      },
      "execution_count": 23,
      "outputs": [
        {
          "output_type": "stream",
          "name": "stdout",
          "text": [
            "   ILLNESS_TYPE_ID      ILLNESS_DESCRIPTION                                            ILL_TREATMENT\n",
            "0              101              Common Cold                Rest, fluids, over-the-counter medication\n",
            "1              101                Influenza                       Rest, fluids, antiviral medication\n",
            "2              101             Strep Throat                        Antibiotics, pain relievers, rest\n",
            "3              101                Pneumonia                        Antibiotics, oxygen therapy, rest\n",
            "4              101               Bronchitis                             Rest, fluids, cough medicine\n",
            "5              101  Urinary Tract Infection                      Antibiotics, increased fluid intake\n",
            "6              101          Gastroenteritis                                 Fluids, bland diet, rest\n",
            "7              101                 Migraine              Pain relievers, rest, avoidance of triggers\n",
            "8              101                  Allergy                   Antihistamines, avoidance of allergens\n",
            "9              101                   Asthma  Bronchodilators, corticosteroids, avoidance of triggers\n"
          ]
        }
      ]
    }
  ]
}