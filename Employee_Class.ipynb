{
  "nbformat": 4,
  "nbformat_minor": 0,
  "metadata": {
    "colab": {
      "provenance": [],
      "authorship_tag": "ABX9TyMN85SPvBrQzcD3ndmuKchi",
      "include_colab_link": true
    },
    "kernelspec": {
      "name": "python3",
      "display_name": "Python 3"
    },
    "language_info": {
      "name": "python"
    }
  },
  "cells": [
    {
      "cell_type": "markdown",
      "metadata": {
        "id": "view-in-github",
        "colab_type": "text"
      },
      "source": [
        "<a href=\"https://colab.research.google.com/github/mwahajkhan/Python-For-Data-Engineering/blob/main/Employee_Class.ipynb\" target=\"_parent\"><img src=\"https://colab.research.google.com/assets/colab-badge.svg\" alt=\"Open In Colab\"/></a>"
      ]
    },
    {
      "cell_type": "code",
      "execution_count": 4,
      "metadata": {
        "id": "dOFa8of4_nVV"
      },
      "outputs": [],
      "source": [
        "class Employee:\n",
        "  def __init__ (self, name, position, salary):\n",
        "    self.name = name\n",
        "    self.position = position\n",
        "    self.salary = salary\n",
        "\n",
        "  def display_info(self):\n",
        "    return f\"{self.name} is a {self.position} earning ${self.salary} annually,\""
      ]
    },
    {
      "cell_type": "code",
      "source": [
        "employee1 = Employee(\"John Doe\", \"Manager\", 75000)\n",
        "employee2 = Employee(\"Jane Smith\", \"Developer\", 60000)\n",
        "\n",
        "print(employee1.display_info())"
      ],
      "metadata": {
        "colab": {
          "base_uri": "https://localhost:8080/"
        },
        "id": "-DF14pQYAtJw",
        "outputId": "ac233720-8e6b-4d64-d95e-134481d5956b"
      },
      "execution_count": 5,
      "outputs": [
        {
          "output_type": "stream",
          "name": "stdout",
          "text": [
            "John Doe is a Manager earning $75000 annually,\n"
          ]
        }
      ]
    },
    {
      "cell_type": "code",
      "source": [
        "employee1.salary = 100000\n",
        "\n",
        "print(employee1.display_info())"
      ],
      "metadata": {
        "colab": {
          "base_uri": "https://localhost:8080/"
        },
        "id": "FmNfZruNEgJw",
        "outputId": "0a97c22f-8492-4c1e-8cd3-db803d92d428"
      },
      "execution_count": 10,
      "outputs": [
        {
          "output_type": "stream",
          "name": "stdout",
          "text": [
            "John Doe is a Manager earning $100000 annually,\n"
          ]
        }
      ]
    }
  ]
}